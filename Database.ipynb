{
 "cells": [
  {
   "cell_type": "markdown",
   "metadata": {},
   "source": [
    "## 資料庫連接 & CRUD\n",
    "\n",
    "*  RDB : MysQL\n",
    "*  NoSQL : MongoDB"
   ]
  },
  {
   "cell_type": "markdown",
   "metadata": {},
   "source": [
    "### 1. MysqL"
   ]
  },
  {
   "cell_type": "markdown",
   "metadata": {},
   "source": [
    "#### 1.0 安裝套件 -- mysqlclient\n",
    "\n",
    "* Python 2+ : pip install mysqlclient\n",
    "* Python 3+ : pip3 install mysqlclient"
   ]
  },
  {
   "cell_type": "markdown",
   "metadata": {},
   "source": [
    "#### 1.1 引用套件"
   ]
  },
  {
   "cell_type": "code",
   "execution_count": 7,
   "metadata": {},
   "outputs": [],
   "source": [
    "import MySQLdb"
   ]
  },
  {
   "cell_type": "markdown",
   "metadata": {},
   "source": [
    "#### 1.2 連接資料庫"
   ]
  },
  {
   "cell_type": "code",
   "execution_count": 15,
   "metadata": {},
   "outputs": [],
   "source": [
    "conn = MySQLdb.Connect(host=\"localhost\",user = \"root\",passwd =\"user\",db=\"Demo\",charset=\"utf8\")"
   ]
  },
  {
   "cell_type": "markdown",
   "metadata": {},
   "source": [
    "#### 1.3 顯示資料表清單"
   ]
  },
  {
   "cell_type": "code",
   "execution_count": 9,
   "metadata": {},
   "outputs": [
    {
     "name": "stdout",
     "output_type": "stream",
     "text": [
      "(('EMPLOYEE',),)\n"
     ]
    }
   ],
   "source": [
    "cmd = conn.cursor()\n",
    "cmd.execute(\"Show TABLES\")\n",
    "r = cmd.fetchall()\n",
    "print(r)"
   ]
  },
  {
   "cell_type": "markdown",
   "metadata": {},
   "source": [
    "#### 1.4 創建資料表"
   ]
  },
  {
   "cell_type": "code",
   "execution_count": 10,
   "metadata": {},
   "outputs": [
    {
     "name": "stderr",
     "output_type": "stream",
     "text": [
      "/home/user/.local/lib/python3.5/site-packages/ipykernel_launcher.py:11: Warning: (1050, \"Table 'EMPLOYEE' already exists\")\n",
      "  # This is added back by InteractiveShellApp.init_path()\n"
     ]
    },
    {
     "data": {
      "text/plain": [
       "0"
      ]
     },
     "execution_count": 10,
     "metadata": {},
     "output_type": "execute_result"
    }
   ],
   "source": [
    "sql = \"\"\"CREATE TABLE IF NOT EXISTS EMPLOYEE (\n",
    "         ID INTEGER NOT NULL AUTO_INCREMENT,\n",
    "         FIRST_NAME  CHAR(20) NOT NULL,\n",
    "         LAST_NAME  CHAR(20),\n",
    "         AGE INT,\n",
    "         SEX CHAR(1),\n",
    "         INCOME FLOAT,\n",
    "         COUNTRY VARCHAR(30),\n",
    "         PRIMARY KEY (ID))\"\"\"\n",
    "\n",
    "cmd.execute(sql)"
   ]
  },
  {
   "cell_type": "markdown",
   "metadata": {},
   "source": [
    "#### 1.5 新增資料"
   ]
  },
  {
   "cell_type": "code",
   "execution_count": 11,
   "metadata": {},
   "outputs": [
    {
     "name": "stdout",
     "output_type": "stream",
     "text": [
      "Insert Success\n"
     ]
    }
   ],
   "source": [
    "#新增一筆資料\n",
    "\n",
    "sql = \"\"\"INSERT INTO EMPLOYEE(FIRST_NAME,\n",
    "         LAST_NAME, AGE, SEX, INCOME,COUNTRY)\n",
    "         VALUES ('Nick', 'Lin', 35, 'M',80000,\"Taichung\")\"\"\"\n",
    "\n",
    "try:\n",
    "    cmd.execute(sql)\n",
    "    conn.commit()\n",
    "    print(\"Insert Success\")\n",
    "    \n",
    "except:   \n",
    "    conn.rollback()\n",
    "    print(\"Insert Error\")"
   ]
  },
  {
   "cell_type": "code",
   "execution_count": 12,
   "metadata": {},
   "outputs": [
    {
     "name": "stdout",
     "output_type": "stream",
     "text": [
      "3\n"
     ]
    }
   ],
   "source": [
    "#新增多筆資料\n",
    "\n",
    "sql = \"INSERT INTO EMPLOYEE VALUES(%s,%s,%s,%s,%s,%s,%s)\"\n",
    "print(cmd.executemany(sql,[\n",
    "    (0,'David', 'Yang', '45', 'M','55500','Taipei'),\n",
    "    (0,'Mark', 'Hu', '28', 'M','33500','Taipei'),\n",
    "    (0,'Carol', 'Chen', '25', 'F','42500','Taipei'),\n",
    "    ]))\n",
    "conn.commit()"
   ]
  },
  {
   "cell_type": "markdown",
   "metadata": {},
   "source": [
    "#### 1.6 查詢資料"
   ]
  },
  {
   "cell_type": "code",
   "execution_count": 16,
   "metadata": {},
   "outputs": [
    {
     "name": "stdout",
     "output_type": "stream",
     "text": [
      "fname=Nick,lname=Lin,age=32,sex=M,income=80000, country=Taichung\n",
      "fname=Mark,lname=Hu,age=28,sex=M,income=33500, country=Taipei\n",
      "fname=Carol,lname=Chen,age=25,sex=F,income=42500, country=Taipei\n",
      "fname=Mark,lname=Hu,age=28,sex=M,income=33500, country=Taipei\n",
      "fname=Carol,lname=Chen,age=25,sex=F,income=42500, country=Taipei\n",
      "fname=Mark,lname=Hu,age=28,sex=M,income=33500, country=Taipei\n",
      "fname=Carol,lname=Chen,age=25,sex=F,income=42500, country=Taipei\n",
      "fname=Nick,lname=Lin,age=35,sex=M,income=80000, country=Taichung\n",
      "fname=David,lname=Yang,age=45,sex=M,income=55500, country=Taipei\n",
      "fname=Mark,lname=Hu,age=28,sex=M,income=33500, country=Taipei\n",
      "fname=Carol,lname=Chen,age=25,sex=F,income=42500, country=Taipei\n"
     ]
    }
   ],
   "source": [
    "#一次將所有的查詢結果都取回後，再以迴圈輸出\n",
    "\n",
    "sql = \"SELECT * FROM EMPLOYEE\"\n",
    "\n",
    "try:\n",
    "    cmd.execute(sql)\n",
    "    results = cmd.fetchall()\n",
    "    for row in results:\n",
    "        pid = row[0]\n",
    "        fname = row[1]\n",
    "        lname = row[2]\n",
    "        age = row[3]\n",
    "        sex = row[4]\n",
    "        income = row[5]\n",
    "        country= row[6]\n",
    "        \n",
    "        print(\"fname=%s,lname=%s,age=%d,sex=%s,income=%d, country=%s\" %(fname, lname, age, sex, income,country )) \n",
    "  \n",
    "    \n",
    "except:\n",
    "    print(\"Error: unable to fecth data\")"
   ]
  },
  {
   "cell_type": "code",
   "execution_count": 14,
   "metadata": {},
   "outputs": [
    {
     "name": "stdout",
     "output_type": "stream",
     "text": [
      "11\n",
      "fname=Nick,lname=Lin,age=32,sex=M,income=80000, country=Taichung\n",
      "fname=Mark,lname=Hu,age=28,sex=M,income=33500, country=Taipei\n",
      "fname=Carol,lname=Chen,age=25,sex=F,income=42500, country=Taipei\n",
      "fname=Mark,lname=Hu,age=28,sex=M,income=33500, country=Taipei\n",
      "fname=Carol,lname=Chen,age=25,sex=F,income=42500, country=Taipei\n",
      "fname=Mark,lname=Hu,age=28,sex=M,income=33500, country=Taipei\n",
      "fname=Carol,lname=Chen,age=25,sex=F,income=42500, country=Taipei\n",
      "fname=Nick,lname=Lin,age=35,sex=M,income=80000, country=Taichung\n",
      "fname=David,lname=Yang,age=45,sex=M,income=55500, country=Taipei\n",
      "fname=Mark,lname=Hu,age=28,sex=M,income=33500, country=Taipei\n",
      "fname=Carol,lname=Chen,age=25,sex=F,income=42500, country=Taipei\n"
     ]
    }
   ],
   "source": [
    "#一次只取回一筆查詢結果，這種方式在處理大量資料時，可以節省記憶體空間\n",
    "\n",
    "sql = \"SELECT * FROM EMPLOYEE\"\n",
    "cmd.execute(sql)\n",
    "    \n",
    "try:\n",
    "    cmd.execute(sql)\n",
    "    \n",
    "    rowsCount = cmd.rowcount\n",
    "    print(rowsCount)\n",
    "    \n",
    "    for i in range(0,rowsCount):\n",
    "        record = cmd.fetchone()\n",
    "        #pid = row[0]\n",
    "        fname = record[1]\n",
    "        lname = record[2]\n",
    "        age = record[3]\n",
    "        sex = record[4]\n",
    "        income = record[5]\n",
    "        country= record[6]\n",
    "\n",
    "        print(\"fname=%s,lname=%s,age=%d,sex=%s,income=%d, country=%s\" %(fname, lname, age, sex, income,country ))\n",
    "        \n",
    "except:\n",
    "    print(\"Error: unable to fecth data\")\n"
   ]
  },
  {
   "cell_type": "markdown",
   "metadata": {},
   "source": [
    "#### 1.7 更新資料"
   ]
  },
  {
   "cell_type": "code",
   "execution_count": 15,
   "metadata": {},
   "outputs": [],
   "source": [
    "sql = \"UPDATE EMPLOYEE SET AGE ='32' WHERE FIRST_NAME ='Nick'\"\n",
    "cmd.execute(sql)\n",
    "conn.commit()"
   ]
  },
  {
   "cell_type": "markdown",
   "metadata": {},
   "source": [
    "#### 1.8 刪除資料"
   ]
  },
  {
   "cell_type": "code",
   "execution_count": 18,
   "metadata": {},
   "outputs": [
    {
     "name": "stdout",
     "output_type": "stream",
     "text": [
      "((1, 'Nick', 'Lin', 32, 'M', 80000.0, 'Taichung'), (3, 'Mark', 'Hu', 28, 'M', 33500.0, 'Taipei'), (4, 'Carol', 'Chen', 25, 'F', 42500.0, 'Taipei'), (6, 'Mark', 'Hu', 28, 'M', 33500.0, 'Taipei'), (7, 'Carol', 'Chen', 25, 'F', 42500.0, 'Taipei'), (9, 'Mark', 'Hu', 28, 'M', 33500.0, 'Taipei'), (10, 'Carol', 'Chen', 25, 'F', 42500.0, 'Taipei'))\n"
     ]
    }
   ],
   "source": [
    "age = 40\n",
    "sql = \"DELETE FROM EMPLOYEE WHERE AGE >= '%d'\" % (age)\n",
    "#print(sql)\n",
    "\n",
    "#sql = \"DELETE FROM EMPLOYEE\"\n",
    "\n",
    "try:\n",
    "    \n",
    "    cmd.execute(sql)\n",
    "    conn.commit()\n",
    "    \n",
    "    sql = \"SELECT * FROM EMPLOYEE\"\n",
    "    cmd.execute(sql)\n",
    "  \n",
    "    print( cmd.fetchall())   \n",
    "    #print( cmd.fetchmany(2))      \n",
    "    #print( cmd.fetchone())\n",
    "    \n",
    "except:\n",
    "    conn.rollback()"
   ]
  },
  {
   "cell_type": "markdown",
   "metadata": {},
   "source": [
    "#### 1.9 關閉資料庫連接"
   ]
  },
  {
   "cell_type": "code",
   "execution_count": 20,
   "metadata": {},
   "outputs": [],
   "source": [
    "conn.close()"
   ]
  },
  {
   "cell_type": "markdown",
   "metadata": {},
   "source": [
    "### 2. MongoDB\n",
    "\n",
    "\n",
    "* Start MongoDB service :  sudo service mongod start\n",
    "* run command : mongo"
   ]
  },
  {
   "cell_type": "markdown",
   "metadata": {},
   "source": [
    "#### 2.0 安裝套件 -- pymongo\n",
    "* Python 2+ : pip install pymongo\n",
    "* Python 3+ : pip3 install pymongo"
   ]
  },
  {
   "cell_type": "markdown",
   "metadata": {},
   "source": [
    "#### 2.1 引用套件"
   ]
  },
  {
   "cell_type": "code",
   "execution_count": 21,
   "metadata": {},
   "outputs": [],
   "source": [
    "import pymongo"
   ]
  },
  {
   "cell_type": "markdown",
   "metadata": {},
   "source": [
    "#### 2.2 連接資料庫"
   ]
  },
  {
   "cell_type": "code",
   "execution_count": 22,
   "metadata": {},
   "outputs": [],
   "source": [
    "myclient = pymongo.MongoClient(\"mongodb://localhost:27017/\")\n",
    "mydb = myclient[\"MyTestDB\"]"
   ]
  },
  {
   "cell_type": "code",
   "execution_count": 24,
   "metadata": {},
   "outputs": [
    {
     "name": "stdout",
     "output_type": "stream",
     "text": [
      "DB 不存在！\n"
     ]
    }
   ],
   "source": [
    "dblist = myclient.list_database_names() #讀取資料庫清單\n",
    "if \"MyTestDB\" in dblist:\n",
    "    print(\"DB 已存在！\")\n",
    "else:\n",
    "    print(\"DB 不存在！\")\n",
    "   "
   ]
  },
  {
   "cell_type": "markdown",
   "metadata": {},
   "source": [
    "#### 2.4 插入資料"
   ]
  },
  {
   "cell_type": "code",
   "execution_count": 25,
   "metadata": {},
   "outputs": [
    {
     "name": "stdout",
     "output_type": "stream",
     "text": [
      "5bd916d75f627d12a57b7eb4\n"
     ]
    }
   ],
   "source": [
    "mycol = mydb[\"Course\"]\n",
    "\n",
    "# 插入一筆資料\n",
    "\n",
    "mydict = { \"ename\": \"Computer Science\",\"cname\":\"電腦科學\",\"teacher\": \"Nick\", \"credit\":3,\"room\":\"A101\" } \n",
    "\n",
    "x = mycol.insert_one(mydict) \n",
    "print(x.inserted_id) \n"
   ]
  },
  {
   "cell_type": "code",
   "execution_count": 26,
   "metadata": {},
   "outputs": [
    {
     "name": "stdout",
     "output_type": "stream",
     "text": [
      "[ObjectId('5bd916d85f627d12a57b7eb5'), ObjectId('5bd916d85f627d12a57b7eb6'), ObjectId('5bd916d85f627d12a57b7eb7'), ObjectId('5bd916d85f627d12a57b7eb8'), ObjectId('5bd916d85f627d12a57b7eb9'), ObjectId('5bd916d85f627d12a57b7eba')]\n"
     ]
    }
   ],
   "source": [
    "# 插入多筆資料\n",
    "\n",
    "mylist = [\n",
    "  { \"ename\": \"FINANCIAL MANAGEMENT\",\"cname\":\"財務管理\",\"teacher\": \"林稚齡\", \"credit\":3,\"room\":\"A101\" }, \n",
    "  { \"ename\": \"PROGRAMMING LANGUAGE\",\"cname\":\"程式語言\",\"teacher\": \"周杰倫\", \"credit\":3,\"room\":\"B101\" }, \n",
    "  { \"ename\": \"DATA STRUCTURE\",\"cname\":\"資料結構\",\"teacher\": \"蔡依林\", \"credit\":2,\"room\":\"A101\" } , \n",
    "  { \"ename\": \"MOBILE COMMERCE\",\"cname\":\"行動電子商務\",\"teacher\": \"韋禮安\", \"credit\":2,\"room\":\"B101\" } , \n",
    "  { \"ename\": \"ENTERPRISE RESOURCE PLANNING\",\"cname\":\"企業資源規劃\",\"teacher\": \"盧廣仲\", \"credit\":1,\"room\":\"B101\" } , \n",
    "  { \"ename\": \"MARKETING MANAGEMENT\",\"cname\":\"行銷管理\",\"teacher\": \"徐佳瑩\", \"credit\":2,\"room\":\"C101\" }  \n",
    "]\n",
    " \n",
    "x = mycol.insert_many(mylist)\n",
    "\n",
    "print(x.inserted_ids)"
   ]
  },
  {
   "cell_type": "code",
   "execution_count": 27,
   "metadata": {
    "scrolled": true
   },
   "outputs": [
    {
     "name": "stdout",
     "output_type": "stream",
     "text": [
      "[14, 12, 13]\n"
     ]
    }
   ],
   "source": [
    "# 插入多筆資料並指定id\n",
    "mylist = [\n",
    "  { \"_id\": 14, \"ename\": \"SYSTEM ANALYSIS AND DESIGN\",\"cname\":\"系統分析與設計\",\"teacher\": \"Hebe\", \"credit\":2,\"room\":\"D202\" },\n",
    "  { \"_id\": 12, \"ename\": \"CLOUD COMPUTING\",\"cname\":\"雲端技術與應用\",\"teacher\": \"David\", \"credit\":2,\"room\":\"D201\" },\n",
    "  { \"_id\": 13, \"ename\": \"BIG DATA ANALYSIS TECHNIQUES\",\"cname\":\"巨量資料分析技術\",\"teacher\": \"David\", \"credit\":2,\"room\":\"C101\" }\n",
    "]\n",
    " \n",
    "x = mycol.insert_many(mylist)\n",
    "print(x.inserted_ids)"
   ]
  },
  {
   "cell_type": "markdown",
   "metadata": {},
   "source": [
    "#### 2.5 查詢資料"
   ]
  },
  {
   "cell_type": "code",
   "execution_count": 28,
   "metadata": {},
   "outputs": [
    {
     "name": "stdout",
     "output_type": "stream",
     "text": [
      "{'ename': 'Computer Science', 'teacher': 'Nick', '_id': ObjectId('5bd916d75f627d12a57b7eb4'), 'cname': '電腦科學', 'room': 'A101', 'credit': 3}\n"
     ]
    }
   ],
   "source": [
    "# 回傳一筆資料\n",
    "x = mycol.find_one() \n",
    "print(x)"
   ]
  },
  {
   "cell_type": "code",
   "execution_count": 29,
   "metadata": {},
   "outputs": [
    {
     "name": "stdout",
     "output_type": "stream",
     "text": [
      "{'ename': 'Computer Science', 'teacher': 'Nick', '_id': ObjectId('5bd916d75f627d12a57b7eb4'), 'cname': '電腦科學', 'room': 'A101', 'credit': 3}\n",
      "{'ename': 'FINANCIAL MANAGEMENT', 'teacher': '林稚齡', '_id': ObjectId('5bd916d85f627d12a57b7eb5'), 'cname': '財務管理', 'room': 'A101', 'credit': 3}\n",
      "{'ename': 'PROGRAMMING LANGUAGE', 'teacher': '周杰倫', '_id': ObjectId('5bd916d85f627d12a57b7eb6'), 'cname': '程式語言', 'room': 'B101', 'credit': 3}\n",
      "{'ename': 'DATA STRUCTURE', 'teacher': '蔡依林', '_id': ObjectId('5bd916d85f627d12a57b7eb7'), 'cname': '資料結構', 'room': 'A101', 'credit': 2}\n",
      "{'ename': 'MOBILE COMMERCE', 'teacher': '韋禮安', '_id': ObjectId('5bd916d85f627d12a57b7eb8'), 'cname': '行動電子商務', 'room': 'B101', 'credit': 2}\n",
      "{'ename': 'ENTERPRISE RESOURCE PLANNING', 'teacher': '盧廣仲', '_id': ObjectId('5bd916d85f627d12a57b7eb9'), 'cname': '企業資源規劃', 'room': 'B101', 'credit': 1}\n",
      "{'ename': 'MARKETING MANAGEMENT', 'teacher': '徐佳瑩', '_id': ObjectId('5bd916d85f627d12a57b7eba'), 'cname': '行銷管理', 'room': 'C101', 'credit': 2}\n",
      "{'ename': 'SYSTEM ANALYSIS AND DESIGN', 'teacher': 'Hebe', '_id': 14, 'cname': '系統分析與設計', 'room': 'D202', 'credit': 2}\n",
      "{'ename': 'CLOUD COMPUTING', 'teacher': 'David', '_id': 12, 'cname': '雲端技術與應用', 'room': 'D201', 'credit': 2}\n",
      "{'ename': 'BIG DATA ANALYSIS TECHNIQUES', 'teacher': 'David', '_id': 13, 'cname': '巨量資料分析技術', 'room': 'C101', 'credit': 2}\n"
     ]
    }
   ],
   "source": [
    "# 回傳多筆資料\n",
    "data = mycol.find()\n",
    "for x in data :\n",
    "    print(x)"
   ]
  },
  {
   "cell_type": "code",
   "execution_count": 30,
   "metadata": {},
   "outputs": [
    {
     "name": "stdout",
     "output_type": "stream",
     "text": [
      "{'cname': '電腦科學', 'room': 'A101'}\n",
      "{'cname': '財務管理', 'room': 'A101'}\n",
      "{'cname': '程式語言', 'room': 'B101'}\n",
      "{'cname': '資料結構', 'room': 'A101'}\n",
      "{'cname': '行動電子商務', 'room': 'B101'}\n",
      "{'cname': '企業資源規劃', 'room': 'B101'}\n",
      "{'cname': '行銷管理', 'room': 'C101'}\n",
      "{'cname': '系統分析與設計', 'room': 'D202'}\n",
      "{'cname': '雲端技術與應用', 'room': 'D201'}\n",
      "{'cname': '巨量資料分析技術', 'room': 'C101'}\n"
     ]
    }
   ],
   "source": [
    "# Select 呈現特定欄位\n",
    "for x in mycol.find({},{ \"_id\": 0, \"cname\": 1, \"room\": 1 }):\n",
    "    print(x)"
   ]
  },
  {
   "cell_type": "code",
   "execution_count": 31,
   "metadata": {},
   "outputs": [
    {
     "name": "stdout",
     "output_type": "stream",
     "text": [
      "<pymongo.cursor.Cursor object at 0x7faf3acf8c88>\n",
      "{'cname': '系統分析與設計', 'room': 'D202'}\n"
     ]
    }
   ],
   "source": [
    "# 條件查詢\n",
    "myquery = { \"room\": \"D202\" } \n",
    "mydoc = mycol.find(myquery, { \"_id\": 0, \"cname\": 1, \"room\": 1 }) \n",
    "\n",
    "print (mydoc)\n",
    "\n",
    "for x in mydoc:\n",
    "     print(x)"
   ]
  },
  {
   "cell_type": "code",
   "execution_count": 32,
   "metadata": {},
   "outputs": [
    {
     "name": "stdout",
     "output_type": "stream",
     "text": [
      "<pymongo.cursor.Cursor object at 0x7faf3acf8ac8>\n",
      "{'ename': 'Computer Science', 'teacher': 'Nick', '_id': ObjectId('5bd916d75f627d12a57b7eb4'), 'cname': '電腦科學', 'room': 'A101', 'credit': 3}\n",
      "{'ename': 'FINANCIAL MANAGEMENT', 'teacher': '林稚齡', '_id': ObjectId('5bd916d85f627d12a57b7eb5'), 'cname': '財務管理', 'room': 'A101', 'credit': 3}\n"
     ]
    }
   ],
   "source": [
    "myquery = { \"room\": \"A101\",\"credit\": {\"$gt\": 2} }\n",
    "mydoc = mycol.find(myquery) \n",
    "\n",
    "print (mydoc)\n",
    "\n",
    "for x in mydoc:\n",
    "     print(x)"
   ]
  },
  {
   "cell_type": "code",
   "execution_count": 38,
   "metadata": {},
   "outputs": [],
   "source": [
    "# 條件查詢 , 使用正規表達式\n",
    "myquery = { \"ename\": { \"$regex\": \"^M\" } }\n",
    " \n",
    "mydoc = mycol.find(myquery)\n",
    " \n",
    "for x in mydoc:\n",
    "    print(x)"
   ]
  },
  {
   "cell_type": "code",
   "execution_count": 45,
   "metadata": {},
   "outputs": [
    {
     "name": "stdout",
     "output_type": "stream",
     "text": [
      "{'room': 'A101', 'ename': 'Computer Science', 'credit': 3, 'cname': '電腦科學', 'teacher': 'Nick', '_id': ObjectId('5bd61a495f627d1376b99f45')}\n",
      "{'room': 'A101', 'ename': 'Computer Science', 'credit': 3, 'cname': '電腦科學', 'teacher': 'Nick', '_id': ObjectId('5bd61a815f627d1376b99f46')}\n",
      "{'room': 'A101', 'ename': 'FINANCIAL MANAGEMENT', 'credit': 3, 'cname': '財務管理', 'teacher': '林稚齡', '_id': ObjectId('5bd61a835f627d1376b99f47')}\n"
     ]
    }
   ],
   "source": [
    "#顯示前三筆資料\n",
    "myresult = mycol.find().limit(3)\n",
    " \n",
    "# 输出结果\n",
    "for x in myresult:\n",
    "    print(x)"
   ]
  },
  {
   "cell_type": "code",
   "execution_count": 46,
   "metadata": {},
   "outputs": [
    {
     "name": "stdout",
     "output_type": "stream",
     "text": [
      "{'room': 'B101', 'ename': 'ENTERPRISE RESOURCE PLANNING', 'credit': 1, 'cname': '企業資源規劃', 'teacher': '盧廣仲', '_id': ObjectId('5bd61a835f627d1376b99f4b')}\n",
      "{'room': 'A101', 'ename': 'DATA STRUCTURE', 'credit': 2, 'cname': '資料結構', 'teacher': '蔡依林', '_id': ObjectId('5bd61a835f627d1376b99f49')}\n",
      "{'room': 'B101', 'ename': 'MOBILE COMMERCE', 'credit': 2, 'cname': '行動電子商務', 'teacher': '韋禮安', '_id': ObjectId('5bd61a835f627d1376b99f4a')}\n",
      "{'room': 'C101', 'ename': 'MARKETING MANAGEMENT', 'credit': 2, 'cname': '行銷管理', 'teacher': '徐佳瑩', '_id': ObjectId('5bd61a835f627d1376b99f4c')}\n",
      "{'ename': 'SYSTEM ANALYSIS AND DESIGN', 'credit': 2, 'cname': '系統分析與設計', '_id': 11, 'teacher': 'Hebe', 'room': 'D202'}\n",
      "{'ename': 'CLOUD COMPUTING', 'credit': 2, 'cname': '雲端技術與應用', '_id': 12, 'teacher': 'David', 'room': 'D201'}\n",
      "{'ename': 'BIG DATA ANALYSIS TECHNIQUES', 'credit': 2, 'cname': '巨量資料分析技術', '_id': 13, 'teacher': 'David', 'room': 'C101'}\n",
      "{'room': 'A101', 'ename': 'Computer Science', 'credit': 3, 'cname': '電腦科學', 'teacher': 'Nick', '_id': ObjectId('5bd61a495f627d1376b99f45')}\n",
      "{'room': 'A101', 'ename': 'Computer Science', 'credit': 3, 'cname': '電腦科學', 'teacher': 'Nick', '_id': ObjectId('5bd61a815f627d1376b99f46')}\n",
      "{'room': 'A101', 'ename': 'FINANCIAL MANAGEMENT', 'credit': 3, 'cname': '財務管理', 'teacher': '林稚齡', '_id': ObjectId('5bd61a835f627d1376b99f47')}\n",
      "{'room': 'B101', 'ename': 'PROGRAMMING LANGUAGE', 'credit': 3, 'cname': '程式語言', 'teacher': '周杰倫', '_id': ObjectId('5bd61a835f627d1376b99f48')}\n"
     ]
    }
   ],
   "source": [
    "#依特定欄位排序資料\n",
    "\n",
    "mydoc = mycol.find().sort(\"credit\")\n",
    "\n",
    "# mydoc = mycol.find().sort(\"alexa\", -1)\n",
    "\n",
    "for x in mydoc:\n",
    "    print(x)"
   ]
  },
  {
   "cell_type": "markdown",
   "metadata": {},
   "source": [
    "#### 2.6 更新資料"
   ]
  },
  {
   "cell_type": "code",
   "execution_count": 44,
   "metadata": {},
   "outputs": [
    {
     "name": "stdout",
     "output_type": "stream",
     "text": [
      "{'teacher': 'Nick', 'cname': '電腦科學', '_id': ObjectId('5bd6a8e35f627d3ba37b65c0'), 'credit': 3, 'ename': 'Computer Science', 'room': 'B102'}\n",
      "{'teacher': 'Nick', 'cname': '電腦科學', '_id': ObjectId('5bd6a8e75f627d3ba37b65c1'), 'credit': 3, 'ename': 'Computer Science', 'room': 'A101'}\n",
      "{'teacher': 'Hebe', 'cname': '系統分析與設計', '_id': 11, 'credit': 2, 'ename': 'SYSTEM ANALYSIS AND DESIGN', 'room': 'D202'}\n",
      "{'teacher': 'David', 'cname': '雲端技術與應用', '_id': 12, 'credit': 2, 'ename': 'CLOUD COMPUTING', 'room': 'D201'}\n",
      "{'teacher': 'David', 'cname': '巨量資料分析技術', '_id': 13, 'credit': 2, 'ename': 'BIG DATA ANALYSIS TECHNIQUES', 'room': 'C101'}\n",
      "{'teacher': 'Hebe', 'cname': '系統分析與設計', '_id': 14, 'credit': 2, 'ename': 'SYSTEM ANALYSIS AND DESIGN', 'room': 'D202'}\n"
     ]
    }
   ],
   "source": [
    "#依特定條件,更新資料\n",
    "myquery = { \"room\": \"A101\" }\n",
    "newvalues = { \"$set\": { \"room\": \"B102\" } }\n",
    "\n",
    "mycol.update_one(myquery, newvalues)\n",
    "\n",
    "for x in mycol.find():\n",
    "    print(x)"
   ]
  },
  {
   "cell_type": "code",
   "execution_count": 45,
   "metadata": {},
   "outputs": [
    {
     "name": "stdout",
     "output_type": "stream",
     "text": [
      "0 文件已經修改\n",
      "{'teacher': 'Nick', 'cname': '電腦科學', '_id': ObjectId('5bd6a8e35f627d3ba37b65c0'), 'credit': 3, 'ename': 'Computer Science', 'room': 'B102'}\n",
      "{'teacher': 'Nick', 'cname': '電腦科學', '_id': ObjectId('5bd6a8e75f627d3ba37b65c1'), 'credit': 3, 'ename': 'Computer Science', 'room': 'A101'}\n",
      "{'teacher': 'Hebe', 'cname': '系統分析與設計', '_id': 11, 'credit': 2, 'ename': 'SYSTEM ANALYSIS AND DESIGN', 'room': 'D202'}\n",
      "{'teacher': 'David', 'cname': '雲端技術與應用', '_id': 12, 'credit': 2, 'ename': 'CLOUD COMPUTING', 'room': 'D201'}\n",
      "{'teacher': 'David', 'cname': '巨量資料分析技術', '_id': 13, 'credit': 2, 'ename': 'BIG DATA ANALYSIS TECHNIQUES', 'room': 'C101'}\n",
      "{'teacher': 'Hebe', 'cname': '系統分析與設計', '_id': 14, 'credit': 2, 'ename': 'SYSTEM ANALYSIS AND DESIGN', 'room': 'D202'}\n"
     ]
    }
   ],
   "source": [
    "#依正規表達式條件,更新資料\n",
    "myquery = { \"ename\": { \"$regex\": \"^M\" } }\n",
    "newvalues = { \"$set\": { \"room\": \"A101\" } }\n",
    " \n",
    "x = mycol.update_many(myquery, newvalues)\n",
    " \n",
    "print(x.modified_count, \"文件已經修改\")\n",
    "for x in mycol.find():\n",
    "    print(x)"
   ]
  },
  {
   "cell_type": "markdown",
   "metadata": {},
   "source": [
    "#### 2.7 刪除資料"
   ]
  },
  {
   "cell_type": "code",
   "execution_count": 51,
   "metadata": {},
   "outputs": [],
   "source": [
    "# 依特定條件,刪除一筆資料\n",
    "myquery = { \"teacher\": \"Nick\" }\n",
    " \n",
    "mycol.delete_one(myquery)\n",
    "\n",
    "for x in mycol.find():\n",
    "    print(x)"
   ]
  },
  {
   "cell_type": "code",
   "execution_count": 48,
   "metadata": {},
   "outputs": [
    {
     "name": "stdout",
     "output_type": "stream",
     "text": [
      "2 個文件已刪除\n"
     ]
    }
   ],
   "source": [
    "# 依正規表達示條件,刪除多筆資料\n",
    "\n",
    "myquery = { \"ename\": {\"$regex\": \"^C\"} }\n",
    " \n",
    "x = mycol.delete_many(myquery)\n",
    " \n",
    "print(x.deleted_count, \"個文件已刪除\")"
   ]
  },
  {
   "cell_type": "markdown",
   "metadata": {},
   "source": [
    "#### 2.8 刪除 Collections"
   ]
  },
  {
   "cell_type": "code",
   "execution_count": 50,
   "metadata": {},
   "outputs": [],
   "source": [
    "mycol.drop()"
   ]
  },
  {
   "cell_type": "code",
   "execution_count": null,
   "metadata": {},
   "outputs": [],
   "source": []
  }
 ],
 "metadata": {
  "kernelspec": {
   "display_name": "Python 3",
   "language": "python",
   "name": "python3"
  },
  "language_info": {
   "codemirror_mode": {
    "name": "ipython",
    "version": 3
   },
   "file_extension": ".py",
   "mimetype": "text/x-python",
   "name": "python",
   "nbconvert_exporter": "python",
   "pygments_lexer": "ipython3",
   "version": "3.5.2"
  }
 },
 "nbformat": 4,
 "nbformat_minor": 2
}
